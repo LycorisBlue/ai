{
 "cells": [
  {
   "cell_type": "markdown",
   "id": "79d86458",
   "metadata": {},
   "source": [
    "## Importation"
   ]
  },
  {
   "cell_type": "markdown",
   "id": "6999536f",
   "metadata": {},
   "source": []
  }
 ],
 "metadata": {
  "language_info": {
   "name": "python"
  }
 },
 "nbformat": 4,
 "nbformat_minor": 5
}
